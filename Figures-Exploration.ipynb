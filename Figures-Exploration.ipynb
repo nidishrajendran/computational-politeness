{
 "cells": [
  {
   "cell_type": "code",
   "execution_count": 18,
   "metadata": {
    "collapsed": false
   },
   "outputs": [],
   "source": [
    "import numpy as np\n",
    "import matplotlib.pyplot as plt\n",
    "import csv\n",
    "import pickle\n",
    "import random as random\n",
    "import pickle as cPickle\n",
    "from sklearn import svm\n",
    "from scipy.sparse import csr_matrix\n",
    "from sklearn.metrics import classification_report\n",
    "%matplotlib inline"
   ]
  },
  {
   "cell_type": "code",
   "execution_count": 3,
   "metadata": {
    "collapsed": false
   },
   "outputs": [
    {
     "data": {
      "image/png": "[encoded data removed]",
      "text/plain": [
       "<matplotlib.figure.Figure at 0x7fb17527ab50>"
      ]
     },
     "metadata": {},
     "output_type": "display_data"
    },
    {
     "data": {
      "image/png": "[encoded data removed]",
      "text/plain": [
       "<matplotlib.figure.Figure at 0x7fb17527ab10>"
      ]
     },
     "metadata": {},
     "output_type": "display_data"
    }
   ],
   "source": [
    "def plotHistogram(inputCsv, title, b=20):\n",
    "    scores = []\n",
    "    with open(inputCsv, 'rb') as csvfile:\n",
    "        spamreader = csv.reader(csvfile, delimiter=',', quotechar='\"')\n",
    "        spamreader.next()\n",
    "        for row in spamreader:\n",
    "            scores.append(float(row[-1]))\n",
    "    \n",
    "    plt.clf()\n",
    "    plt.hist(scores, bins=b)\n",
    "    plt.title(title)\n",
    "    plt.xlabel(\"Politeness Score\")\n",
    "    plt.ylabel(\"# Requests\")\n",
    "    plt.show()\n",
    "    \n",
    "plotHistogram('data/wikipedia.annotated.csv', \"Wiki Score Distribution\", 40)\n",
    "plotHistogram('data/stack-exchange.annotated.csv', \"SE Score Distribution\", 50)"
   ]
  },
  {
   "cell_type": "code",
   "execution_count": 7,
   "metadata": {
    "collapsed": false
   },
   "outputs": [
    {
     "name": "stdout",
     "output_type": "stream",
     "text": [
      "['unitedkingdom', 'usnews', 'unitedstates', 'ukpolitics', 'uspolitics', 'uknews']\n",
      "unitedkingdom\n",
      "1201\n",
      "usnews\n",
      "820\n",
      "unitedstates\n",
      "9\n",
      "ukpolitics\n",
      "1201\n",
      "uspolitics\n",
      "875\n",
      "uknews\n",
      "79\n"
     ]
    }
   ],
   "source": [
    "PATH = 'data/reddit/pickleFiles/'\n",
    "DATA_FILES = ['reddit_data.pickle']\n",
    "redditData = pickle.load(open(PATH + DATA_FILES[0], \"rb\" ))\n",
    "print redditData.keys()\n",
    "\n",
    "redditDics = {}\n",
    "for key, val in redditData.iteritems():\n",
    "    print key\n",
    "    print len(val[1])\n",
    "    new = []\n",
    "    count = 0\n",
    "    for v in val[1]:\n",
    "        dic = {}\n",
    "        if v['before']=='[deleted]' or v['before']=='':\n",
    "            count += 1\n",
    "            continue\n",
    "        dic['Request'] = v['before'].encode('ascii','ignore') + ' ' + v['current'].encode('ascii','ignore')\n",
    "        new.append(dic)\n",
    "    redditDics[key] = new\n"
   ]
  },
  {
   "cell_type": "code",
   "execution_count": 8,
   "metadata": {
    "collapsed": false
   },
   "outputs": [
    {
     "name": "stdout",
     "output_type": "stream",
     "text": [
      "[{'Request': 'no, you wont get killed.. Where are you planning on traveling?'}, {'Request': \"But so far as i know you won't be killed because you are Asian in most of the US. Maybe somewhere in the deep south?\"}, {'Request': 'http://youtu.be/5hfYJsQAhl0 What part of my post in incorrect?'}, {'Request': 'Further, your point about babies is bizarre. Do children not have a right to be counted in the population?'}, {'Request': \"Thank you. I've found this: https://answers.yahoo.com/question/index?qid=20131204014742AAirvOr\\n\\nApparently this claim was some kind of hoax\"}, {'Request': 'Canada. Pueto rico? '}, {'Request': 'Idaho. When was the last time you heard of anything happening in Idaho?'}, {'Request': 'Thanks Chillhardy! What about Maryland?'}]\n"
     ]
    }
   ],
   "source": [
    "print redditDics['unitedstates']"
   ]
  },
  {
   "cell_type": "code",
   "execution_count": 9,
   "metadata": {
    "collapsed": false
   },
   "outputs": [],
   "source": [
    "from features.vectorizer import PolitenessFeatureVectorizer\n",
    "def score(request):\n",
    "    \"\"\"\n",
    "    :param request - The request document to score\n",
    "    :type request - dict with 'sentences' and 'parses' field\n",
    "        sample (taken from test_documents.py)--\n",
    "        {\n",
    "            'sentences': [\n",
    "                \"Have you found the answer for your question?\", \n",
    "                \"If yes would you please share it?\"\n",
    "            ],\n",
    "            'parses': [\n",
    "                [\"csubj(found-3, Have-1)\", \"dobj(Have-1, you-2)\", \"root(ROOT-0, found-3)\", \"det(answer-5, the-4)\", \"dobj(found-3, answer-5)\", \"poss(question-8, your-7)\", \"prep_for(found-3, question-8)\"], \n",
    "                [\"prep_if(would-3, yes-2)\", \"root(ROOT-0, would-3)\", \"nsubj(would-3, you-4)\", \"ccomp(would-3, please-5)\", \"nsubj(it-7, share-6)\", \"xcomp(please-5, it-7)\"]\n",
    "            ]\n",
    "        } \n",
    "\n",
    "    returns class probabilities as a dict\n",
    "        {\n",
    "            'polite': float, \n",
    "            'impolite': float\n",
    "        }\n",
    "    \"\"\"\n",
    "    # vectorizer returns {feature-name: value} dict\n",
    "    features = vectorizer.features(request)\n",
    "    fv = [features[f] for f in sorted(features.iterkeys())]\n",
    "    # Single-row sparse matrix\n",
    "    X = csr_matrix(np.asarray([fv]))\n",
    "    probs = clf.predict_proba(X)\n",
    "    # Massage return format\n",
    "    probs = {\"polite\": probs[0][1], \"impolite\": probs[0][0]}\n",
    "    return probs"
   ]
  },
  {
   "cell_type": "code",
   "execution_count": null,
   "metadata": {
    "collapsed": true
   },
   "outputs": [],
   "source": []
  },
  {
   "cell_type": "code",
   "execution_count": 10,
   "metadata": {
    "collapsed": false
   },
   "outputs": [
    {
     "name": "stdout",
     "output_type": "stream",
     "text": [
      "{'sentences': ['no, you wont get killed.. Where are you planning on traveling?']}\n",
      "{'sentences': [\"But so far as i know you won't be killed because you are Asian in most of the US.\", 'Maybe somewhere in the deep south?']}\n",
      "{'sentences': ['http://youtu.be/5hfYJsQAhl0 What part of my post in incorrect?']}\n",
      "{'sentences': ['Further, your point about babies is bizarre.', 'Do children not have a right to be counted in the population?']}\n",
      "{'sentences': ['Thank you.', \"I've found this: https://answers.yahoo.com/question/index?qid=20131204014742AAirvOr\\n\\nApparently this claim was some kind of hoax\"]}\n",
      "{'sentences': ['Canada.', 'Pueto rico? ']}\n",
      "{'sentences': ['Idaho.', 'When was the last time you heard of anything happening in Idaho?']}\n",
      "{'sentences': ['Thanks Chillhardy!', 'What about Maryland?']}\n"
     ]
    }
   ],
   "source": [
    "from nltk.tokenize import sent_tokenize\n",
    "for text in redditDics['unitedstates']:\n",
    "    doc={}\n",
    "    doc['sentences']=sent_tokenize(text['Request'])\n",
    "    print doc\n",
    "#     probs = score(doc)\n",
    "\n",
    "#     print \"====================\"\n",
    "#     print \"Text: \", doc['text']\n",
    "#     print \"\\tP(polite) = %.3f\" % probs['polite']\n",
    "#     print \"\\tP(impolite) = %.3f\" % probs['impolite']\n",
    "#     print \"\\n\""
   ]
  },
  {
   "cell_type": "code",
   "execution_count": 11,
   "metadata": {
    "collapsed": true
   },
   "outputs": [],
   "source": []
  },
  {
   "cell_type": "code",
   "execution_count": 12,
   "metadata": {
    "collapsed": false
   },
   "outputs": [
    {
     "name": "stdout",
     "output_type": "stream",
     "text": [
      "['parses', 'Score3', 'Request', 'Community', 'Score4', 'Score5', 'score', 'Score1', 'Score2', 'sentences', 'TurkId2', 'TurkId3', 'TurkId1', 'Id', 'TurkId4', 'TurkId5']\n"
     ]
    }
   ],
   "source": [
    "print stack_data['7701271'].keys()"
   ]
  },
  {
   "cell_type": "code",
   "execution_count": 21,
   "metadata": {
    "collapsed": true
   },
   "outputs": [],
   "source": [
    "def train_svm(documents, ntesting=500):\n",
    "    \"\"\"\n",
    "    :param documents- politeness-annotated training data\n",
    "    :type documents- list of dicts\n",
    "        each document must be preprocessed and\n",
    "        'sentences' and 'parses' and 'score' fields.\n",
    "\n",
    "    :param ntesting- number of docs to reserve for testing\n",
    "    :type ntesting- int\n",
    "\n",
    "    returns fitted SVC, which can be serialized using cPickle\n",
    "    \"\"\"\n",
    "    # Generate and persist list of unigrams, bigrams  \n",
    "    PolitenessFeatureVectorizer.generate_bow_features(documents)\n",
    "\n",
    "    # For good luck\n",
    "    random.shuffle(documents)\n",
    "    testing = documents[-ntesting:]\n",
    "    documents = documents[:-ntesting]\n",
    "\n",
    "    # SAVE FOR NOW\n",
    "    #cPickle.dump(testing, open(\"testing-data.p\", 'w'))\n",
    "\n",
    "    X, y = documents2feature_vectors(documents)\n",
    "    Xtest, ytest = documents2feature_vectors(testing)\n",
    "\n",
    "    print \"Fitting\"\n",
    "    clf = svm.SVC(C=0.02, kernel='linear', probability=True)\n",
    "    clf.fit(X, y)\n",
    "\n",
    "    # Test\n",
    "    y_pred = clf.predict(Xtest)\n",
    "    \n",
    "    print(classification_report(ytest, y_pred))\n",
    "\n",
    "    return X,y,Xtest, ytest, clf\n",
    "\n",
    "\n",
    "def documents2feature_vectors(documents):\n",
    "    vectorizer = PolitenessFeatureVectorizer()\n",
    "    fks = False\n",
    "    X, y = [], []\n",
    "    for d in documents:\n",
    "        fs = vectorizer.features(d)\n",
    "        if not fks:\n",
    "            fks = sorted(fs.keys())\n",
    "        fv = [fs[f] for f in fks]\n",
    "        # If politeness score > 0.0, \n",
    "        # the doc is polite, class=1\n",
    "        l = 1 if d['score'] > 0.0 else 0\n",
    "        X.append(fv)\n",
    "        y.append(l)\n",
    "    X = csr_matrix(np.asarray(X))\n",
    "    y = np.asarray(y)\n",
    "    return X, y\n",
    "\n"
   ]
  },
  {
   "cell_type": "code",
   "execution_count": 34,
   "metadata": {
    "collapsed": false
   },
   "outputs": [],
   "source": [
    "\n",
    "stack_data=pickle.load(open('data/wiki_parsed.p'))"
   ]
  },
  {
   "cell_type": "code",
   "execution_count": 35,
   "metadata": {
    "collapsed": false
   },
   "outputs": [
    {
     "name": "stdout",
     "output_type": "stream",
     "text": [
      "Fitting\n",
      "             precision    recall  f1-score   support\n",
      "\n",
      "          0       0.75      0.71      0.73       224\n",
      "          1       0.71      0.74      0.73       211\n",
      "\n",
      "avg / total       0.73      0.73      0.73       435\n",
      "\n"
     ]
    }
   ],
   "source": [
    "documents=stack_data.values() \n",
    "PolitenessFeatureVectorizer.generate_bow_features(documents)\n",
    "\n",
    "ntesting=len(documents)/10\n",
    "# For good luck\n",
    "random.shuffle(documents)\n",
    "testing = documents[-ntesting:]\n",
    "documents = documents[:-ntesting]\n",
    "\n",
    "# SAVE FOR NOW\n",
    "#cPickle.dump(testing, open(\"testing-data.p\", 'w'))\n",
    "\n",
    "X, y = documents2feature_vectors(documents)\n",
    "Xtest, ytest = documents2feature_vectors(testing)\n",
    "\n",
    "print \"Fitting\"\n",
    "clf = svm.SVC(C=0.02, kernel='linear', probability=True)\n",
    "clf.fit(X, y)\n",
    "\n",
    "# Test\n",
    "y_pred = clf.predict(Xtest)\n",
    "\n",
    "print(classification_report(ytest, y_pred))\n",
    "\n",
    "    \n"
   ]
  },
  {
   "cell_type": "code",
   "execution_count": 36,
   "metadata": {
    "collapsed": false
   },
   "outputs": [
    {
     "data": {
      "text/plain": [
       "0.72873563218390802"
      ]
     },
     "execution_count": 36,
     "metadata": {},
     "output_type": "execute_result"
    }
   ],
   "source": [
    "clf.score(Xtest, ytest)"
   ]
  },
  {
   "cell_type": "code",
   "execution_count": 41,
   "metadata": {
    "collapsed": false
   },
   "outputs": [
    {
     "name": "stdout",
     "output_type": "stream",
     "text": [
      "<class 'scipy.sparse.csr.csr_matrix'>\n",
      "zero   (0, 37)\t1\n",
      "  (0, 207)\t1\n",
      "  (0, 371)\t1\n",
      "  (0, 585)\t1\n",
      "  (0, 616)\t1\n",
      "  (0, 619)\t1\n",
      "  (0, 628)\t1\n",
      "  (0, 653)\t1\n",
      "  (0, 696)\t1\n",
      "  (0, 703)\t1\n",
      "  (0, 714)\t1\n",
      "  (0, 724)\t1\n",
      "  (0, 733)\t1\n",
      "  (0, 744)\t1\n",
      "  (0, 815)\t1\n",
      "  (0, 896)\t1\n",
      "  (0, 905)\t1\n",
      "  (0, 920)\t1\n",
      "  (0, 983)\t1\n",
      "  (0, 1134)\t1\n",
      "  (0, 1202)\t1\n",
      "  (0, 1208)\t1\n",
      "  (0, 1212)\t1\n"
     ]
    }
   ],
   "source": [
    "print type(X[0])\n",
    "print \"zero\", X[1]"
   ]
  },
  {
   "cell_type": "code",
   "execution_count": null,
   "metadata": {
    "collapsed": true
   },
   "outputs": [],
   "source": []
  },
  {
   "cell_type": "code",
   "execution_count": null,
   "metadata": {
    "collapsed": true
   },
   "outputs": [],
   "source": []
  }
 ],
 "metadata": {
  "kernelspec": {
   "display_name": "Python 2",
   "language": "python",
   "name": "python2"
  },
  "language_info": {
   "codemirror_mode": {
    "name": "ipython",
    "version": 2
   },
   "file_extension": ".py",
   "mimetype": "text/x-python",
   "name": "python",
   "nbconvert_exporter": "python",
   "pygments_lexer": "ipython2",
   "version": "2.7.9"
  }
 },
 "nbformat": 4,
 "nbformat_minor": 0
}
